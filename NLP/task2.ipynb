{
 "cells": [
  {
   "cell_type": "markdown",
   "metadata": {
    "uuid": "e888be76-ae8c-4036-99fe-9da96d2d546d"
   },
   "source": [
    "# 2. 读取数据和数据分析"
   ]
  },
  {
   "cell_type": "markdown",
   "metadata": {
    "uuid": "a9d1e1bb-6185-49e2-b5c0-d94d0d30897e"
   },
   "source": [
    "## 2.1 数据读取\n",
    "一般都是用pandas库将数据读取为dataframe结构。\n",
    "（DataFrame是一个【表格型】的数据结构，可以看做是【由Series组成的字典】（共用同一个索引）。DataFrame由按一定顺序排列的多列数据组成。设计初衷是将Series的使用场景从一维拓展到多维。DataFrame既有行索引，也有列索引。）"
   ]
  },
  {
   "cell_type": "code",
   "execution_count": 2,
   "metadata": {
    "uuid": "4a44c934-4624-4a41-bd66-8d37b357b6ee"
   },
   "outputs": [],
   "source": [
    "# 读取数据，文件为csv类型，所以用read_csv函数\n",
    "import pandas as pd\n",
    "# train = pd.read_csv(\"input/train_set.csv\", sep=\"\\t\", nrows=100)\n",
    "train = pd.read_csv(\"input/train_set.csv\", sep=\"\\t\")"
   ]
  },
  {
   "cell_type": "markdown",
   "metadata": {
    "uuid": "c5340094-8a3f-41ab-8390-3a0ff6033956"
   },
   "source": [
    "上述代码说明：\n",
    "1. ../input/train_set.csv：文件路径，根据训练集位置自己修改。\n",
    "2. sep=\"\\t\"：分隔符，每个字符直接有一个tab（4个空格）距离。\n",
    "3. nrows=100：通过之前数据的初步认识知道数据集比较大，所以少读取100行先观察一下。"
   ]
  },
  {
   "cell_type": "code",
   "execution_count": 3,
   "metadata": {
    "uuid": "7f0b1bcf-9833-4187-9900-a203b3d581e4"
   },
   "outputs": [
    {
     "data": {
      "text/html": [
       "<div>\n",
       "<style scoped>\n",
       "    .dataframe tbody tr th:only-of-type {\n",
       "        vertical-align: middle;\n",
       "    }\n",
       "\n",
       "    .dataframe tbody tr th {\n",
       "        vertical-align: top;\n",
       "    }\n",
       "\n",
       "    .dataframe thead th {\n",
       "        text-align: right;\n",
       "    }\n",
       "</style>\n",
       "<table border=\"1\" class=\"dataframe\">\n",
       "  <thead>\n",
       "    <tr style=\"text-align: right;\">\n",
       "      <th></th>\n",
       "      <th>label</th>\n",
       "      <th>text</th>\n",
       "    </tr>\n",
       "  </thead>\n",
       "  <tbody>\n",
       "    <tr>\n",
       "      <th>0</th>\n",
       "      <td>2</td>\n",
       "      <td>2967 6758 339 2021 1854 3731 4109 3792 4149 15...</td>\n",
       "    </tr>\n",
       "    <tr>\n",
       "      <th>1</th>\n",
       "      <td>11</td>\n",
       "      <td>4464 486 6352 5619 2465 4802 1452 3137 5778 54...</td>\n",
       "    </tr>\n",
       "    <tr>\n",
       "      <th>2</th>\n",
       "      <td>3</td>\n",
       "      <td>7346 4068 5074 3747 5681 6093 1777 2226 7354 6...</td>\n",
       "    </tr>\n",
       "    <tr>\n",
       "      <th>3</th>\n",
       "      <td>2</td>\n",
       "      <td>7159 948 4866 2109 5520 2490 211 3956 5520 549...</td>\n",
       "    </tr>\n",
       "    <tr>\n",
       "      <th>4</th>\n",
       "      <td>3</td>\n",
       "      <td>3646 3055 3055 2490 4659 6065 3370 5814 2465 5...</td>\n",
       "    </tr>\n",
       "  </tbody>\n",
       "</table>\n",
       "</div>"
      ],
      "text/plain": [
       "   label                                               text\n",
       "0      2  2967 6758 339 2021 1854 3731 4109 3792 4149 15...\n",
       "1     11  4464 486 6352 5619 2465 4802 1452 3137 5778 54...\n",
       "2      3  7346 4068 5074 3747 5681 6093 1777 2226 7354 6...\n",
       "3      2  7159 948 4866 2109 5520 2490 211 3956 5520 549...\n",
       "4      3  3646 3055 3055 2490 4659 6065 3370 5814 2465 5..."
      ]
     },
     "execution_count": 3,
     "metadata": {},
     "output_type": "execute_result"
    }
   ],
   "source": [
    "# 查看数据前五行\n",
    "train.head()"
   ]
  },
  {
   "cell_type": "markdown",
   "metadata": {
    "uuid": "d6f56536-4744-482e-997e-e2a89e269fa9"
   },
   "source": [
    "代码说明:\n",
    "1. train.head(x)：查看数据前x行（默认前5行）。\n",
    "2. 同理：train.tail()；查看数据后5行。\n",
    "\n",
    "输出结果说明:\n",
    "1. 数据只有2列，label列为新闻类别，text列为新闻内容。"
   ]
  },
  {
   "cell_type": "markdown",
   "metadata": {
    "uuid": "63e71d95-8f69-4716-841a-087d69dc1e97"
   },
   "source": [
    "## 2.2 简单数据分析"
   ]
  },
  {
   "cell_type": "markdown",
   "metadata": {
    "uuid": "5fcb2d95-f329-4c5c-b5d1-e336c45bae94"
   },
   "source": [
    "### 2.2.1 语句的长度分析"
   ]
  },
  {
   "cell_type": "code",
   "execution_count": 6,
   "metadata": {
    "uuid": "f4f72664-1e0b-4885-b078-6ff49e1b40ba"
   },
   "outputs": [
    {
     "name": "stdout",
     "output_type": "stream",
     "text": [
      "Populating the interactive namespace from numpy and matplotlib\n",
      "count    200000.000000\n",
      "mean        907.207110\n",
      "std         996.029036\n",
      "min           2.000000\n",
      "25%         374.000000\n",
      "50%         676.000000\n",
      "75%        1131.000000\n",
      "max       57921.000000\n",
      "Name: text_len, dtype: float64\n"
     ]
    }
   ],
   "source": [
    "%pylab inline\n",
    "train[\"text_len\"] = train[\"text\"].apply(lambda x: len(x.split(\" \")))\n",
    "train[\"text_len\"].describe()"
   ]
  },
  {
   "cell_type": "markdown",
   "metadata": {
    "uuid": "9a2f911e-2e94-472b-ba80-750cf7725223"
   },
   "source": [
    "代码说明：\n",
    "1. %pylab inline：pylab是 Matplotlib 和Ipython提供的一个模块，提供了类似Matlab的语法。\n",
    "2. apply()：会自动遍历每一行DataFrame的数据，最后将所有结果组合成一个Series数据结构并返回。\n",
    "3. lambda x: len(x.split(\" \"))：lambda匿名函数，split()将text文本用空格进行切片。"
   ]
  },
  {
   "cell_type": "markdown",
   "metadata": {
    "uuid": "8ee60eba-fdb3-4545-9446-d6ba4cf0fb43"
   },
   "source": [
    "**apply()详细介绍**  \n",
    "pandas.DataFrame.apply  \n",
    "DataFrame.apply(self, func, axis=0, raw=False, result_type=None, args=(), **kwds)\n",
    "\n",
    "Parameters：\n",
    "1. func：function\n",
    "    - Function to apply to each column or row.\n",
    "2. axis：{0 or ‘index’, 1 or ‘columns’}, default 0\n",
    "    Axis along which the function is applied:\n",
    "    - 0 or ‘index’: apply function to each column.\n",
    "    - 1 or ‘columns’: apply function to each row.\n",
    "\n",
    "3. raw：bool, default False\n",
    "    Determines if row or column is passed as a Series or ndarray object:\n",
    "    - False : passes each row or column as a Series to the function.\n",
    "    - True : the passed function will receive ndarray objects instead. If you are just applying a NumPy reduction function this will achieve much better performance.\n",
    "\n",
    "4. result_type{‘expand’, ‘reduce’, ‘broadcast’, None}, default None\n",
    "    These only act when axis=1 (columns):\n",
    "    - ‘expand’ : list-like results will be turned into columns.\n",
    "    - ‘reduce’ : returns a Series if possible rather than expanding list-like results. This is the opposite of ‘expand’.\n",
    "    - ‘broadcast’ : results will be broadcast to the original shape of the DataFrame, the original index and columns will be retained.\n",
    "\n",
    "The default behaviour (None) depends on the return value of the applied function: list-like results will be returned as a Series of those. However if the apply function returns a Series these are expanded to columns.\n",
    "\n",
    "args：tuple\n",
    "    Positional arguments to pass to func in addition to the array/series.\n",
    "\n",
    "\\*\\*kwds\n",
    "    Additional keyword arguments to pass as keywords arguments to func.\n",
    "\n",
    "Returns:\n",
    "    Series or DataFrame  \n",
    "    Result of applying func along the given axis of the DataFrame."
   ]
  },
  {
   "cell_type": "markdown",
   "metadata": {
    "uuid": "3f0d3b2d-783b-4caf-a93c-5f921f3de2c3"
   },
   "source": [
    "输出说明：\n",
    "1. mean 907.207110：每个句子平均由907个字符组成。  \n",
    "2. min 2.000000：最短的句子由两个字符组成。  \n",
    "3. max 57921.000000：最长的句子由57921个字符组成。"
   ]
  },
  {
   "cell_type": "markdown",
   "metadata": {
    "uuid": "c6606b46-ad0a-4445-9509-67800cb32fde"
   },
   "source": [
    "### 2.2.2 简单可视化"
   ]
  },
  {
   "cell_type": "code",
   "execution_count": 15,
   "metadata": {
    "uuid": "fcd47441-4f16-4c62-9ff4-5ae95e4b25ef"
   },
   "outputs": [
    {
     "data": {
      "text/plain": [
       "Text(0.5, 1.0, 'Histogram of char count')"
      ]
     },
     "execution_count": 15,
     "metadata": {},
     "output_type": "execute_result"
    },
    {
     "data": {
      "image/png": "[encoded data removed]",
      "text/plain": [
       "<Figure size 432x288 with 1 Axes>"
      ]
     },
     "metadata": {
      "needs_background": "light"
     },
     "output_type": "display_data"
    }
   ],
   "source": [
    "# 句子长度绘制成直方图\n",
    "_ = plt.hist(train[\"text_len\"], bins = 200)\n",
    "plt.xlabel(\"text char count\")  # 横坐标\n",
    "plt.title(\"Histogram of char count\")  # 图表标题"
   ]
  },
  {
   "cell_type": "markdown",
   "metadata": {
    "uuid": "48822081-baa6-48cb-ada9-ba051fa15d8d"
   },
   "source": [
    "输出说明：  \n",
    "可见大部分句子长度集中在2000字符以内。"
   ]
  },
  {
   "cell_type": "code",
   "execution_count": 16,
   "metadata": {
    "uuid": "2fb191fb-9668-42b5-9eeb-ae82c69ce7e7"
   },
   "outputs": [
    {
     "data": {
      "text/plain": [
       "Text(0.5, 0, 'category')"
      ]
     },
     "execution_count": 16,
     "metadata": {},
     "output_type": "execute_result"
    },
    {
     "data": {
      "image/png": "[encoded data removed]",
      "text/plain": [
       "<Figure size 432x288 with 1 Axes>"
      ]
     },
     "metadata": {
      "needs_background": "light"
     },
     "output_type": "display_data"
    }
   ],
   "source": [
    "# 新闻类别分布\n",
    "train[\"label\"].value_counts().plot(kind=\"bar\")\n",
    "plt.title(\"News class count\")\n",
    "plt.xlabel(\"category\")"
   ]
  },
  {
   "cell_type": "markdown",
   "metadata": {
    "uuid": "5ffea588-ceeb-4d2a-916e-3260c9e8c066"
   },
   "source": [
    "**今天练车学了一部分，晚上看了阿水老师的直播，有点感触，明天继续淦**"
   ]
  },
  {
   "cell_type": "code",
   "execution_count": null,
   "metadata": {
    "uuid": "edfe422e-342c-4dfc-9561-fc136dd6f2a4"
   },
   "outputs": [],
   "source": []
  }
 ],
 "metadata": {
  "kernelspec": {
   "display_name": "Python 3",
   "language": "python",
   "name": "python3"
  },
  "language_info": {
   "codemirror_mode": {
    "name": "ipython",
    "version": 3
   },
   "file_extension": ".py",
   "mimetype": "text/x-python",
   "name": "python",
   "nbconvert_exporter": "python",
   "pygments_lexer": "ipython3",
   "version": "3.6.4"
  }
 },
 "nbformat": 4,
 "nbformat_minor": 4
}
